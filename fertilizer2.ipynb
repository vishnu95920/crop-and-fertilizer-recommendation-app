{
 "cells": [
  {
   "cell_type": "code",
   "execution_count": 1,
   "id": "499d64d1",
   "metadata": {},
   "outputs": [
    {
     "name": "stderr",
     "output_type": "stream",
     "text": [
      "<>:19: SyntaxWarning: invalid escape sequence '\\c'\n",
      "<>:19: SyntaxWarning: invalid escape sequence '\\c'\n",
      "C:\\Users\\ADMIN\\AppData\\Local\\Temp\\ipykernel_15140\\369603143.py:19: SyntaxWarning: invalid escape sequence '\\c'\n",
      "  fertilizer = pd.read_csv('F:\\crop and fertilizer recomendation system\\data set\\Fertilizer Prediction.csv')\n"
     ]
    }
   ],
   "source": [
    "import numpy as np\n",
    "import pandas as pd\n",
    "import matplotlib.pyplot as plt\n",
    "import seaborn as sns\n",
    "from sklearn.preprocessing import LabelEncoder, StandardScaler\n",
    "from sklearn.model_selection import train_test_split\n",
    "from sklearn.ensemble import RandomForestClassifier, VotingClassifier\n",
    "from sklearn.neighbors import KNeighborsClassifier\n",
    "from sklearn.naive_bayes import GaussianNB\n",
    "from sklearn.svm import SVC\n",
    "from xgboost import XGBClassifier\n",
    "from sklearn.metrics import accuracy_score, classification_report\n",
    "import joblib\n",
    "import warnings\n",
    "warnings.filterwarnings('ignore')\n",
    "\n",
    "# Load dataset\n",
    "# Load dataset\n",
    "fertilizer = pd.read_csv('F:\\crop and fertilizer recomendation system\\data set\\Fertilizer Prediction.csv')\n",
    "fertilizer['Fertilizer Name'] = fertilizer['Fertilizer Name'].replace('10/26/2626', '10-26-26').str.strip().str.lower()"
   ]
  },
  {
   "cell_type": "markdown",
   "id": "84b127b4",
   "metadata": {},
   "source": [
    "ENCODE "
   ]
  },
  {
   "cell_type": "code",
   "execution_count": 2,
   "id": "ddf27ff6",
   "metadata": {},
   "outputs": [
    {
     "data": {
      "text/plain": [
       "['crop_encoder.pkl']"
      ]
     },
     "execution_count": 2,
     "metadata": {},
     "output_type": "execute_result"
    }
   ],
   "source": [
    "# Encode categorical features\n",
    "soil_encoder = LabelEncoder()\n",
    "crop_encoder = LabelEncoder()\n",
    "fertilizer['Soil Type'] = soil_encoder.fit_transform(fertilizer['Soil Type'])\n",
    "fertilizer['Crop Type'] = crop_encoder.fit_transform(fertilizer['Crop Type'])\n",
    "joblib.dump(soil_encoder, 'soil_encoder.pkl')\n",
    "joblib.dump(crop_encoder, 'crop_encoder.pkl')\n"
   ]
  },
  {
   "cell_type": "code",
   "execution_count": 3,
   "id": "eab9f0ea",
   "metadata": {},
   "outputs": [],
   "source": [
    "# Features and target\n",
    "features = ['Temparature', 'Humidity ', 'Moisture', 'Soil Type', 'Crop Type', 'Nitrogen', 'Potassium', 'Phosphorous']\n",
    "target = 'Fertilizer Name'\n",
    "X = fertilizer[features]\n",
    "y = fertilizer[target]"
   ]
  },
  {
   "cell_type": "code",
   "execution_count": 4,
   "id": "ad5277f0",
   "metadata": {},
   "outputs": [
    {
     "data": {
      "text/plain": [
       "['label_encoder_fert.pkl']"
      ]
     },
     "execution_count": 4,
     "metadata": {},
     "output_type": "execute_result"
    }
   ],
   "source": [
    "\n",
    "# Encode target\n",
    "label_encoder = LabelEncoder()\n",
    "y_encoded = label_encoder.fit_transform(y)\n",
    "joblib.dump(label_encoder, 'label_encoder_fert.pkl')"
   ]
  },
  {
   "cell_type": "markdown",
   "id": "10cfec56",
   "metadata": {},
   "source": [
    "SPLIT DATA"
   ]
  },
  {
   "cell_type": "code",
   "execution_count": 5,
   "id": "51fb5311",
   "metadata": {},
   "outputs": [],
   "source": [
    "# Split data\n",
    "X_train, X_test, y_train, y_test = train_test_split(X, y_encoded, test_size=0.2, random_state=42)"
   ]
  },
  {
   "cell_type": "code",
   "execution_count": 6,
   "id": "7a13b34b",
   "metadata": {},
   "outputs": [
    {
     "name": "stdout",
     "output_type": "stream",
     "text": [
      "Scaler feature names: ['Temparature' 'Humidity ' 'Moisture' 'Soil Type' 'Crop Type' 'Nitrogen'\n",
      " 'Potassium' 'Phosphorous']\n"
     ]
    }
   ],
   "source": [
    "\n",
    "# Scale features\n",
    "scaler = StandardScaler()\n",
    "X_train_scaled = scaler.fit_transform(X_train)\n",
    "X_test_scaled = scaler.transform(X_test)\n",
    "joblib.dump(scaler, 'fertilizer_scaler.pkl')\n",
    "print(\"Scaler feature names:\", scaler.feature_names_in_)"
   ]
  },
  {
   "cell_type": "markdown",
   "id": "53f4e312",
   "metadata": {},
   "source": [
    "MODEL INITIALIZATION"
   ]
  },
  {
   "cell_type": "code",
   "execution_count": 7,
   "id": "58671c2a",
   "metadata": {},
   "outputs": [],
   "source": [
    "# Initialize models\n",
    "rf_model = RandomForestClassifier(random_state=100)\n",
    "knn_model = KNeighborsClassifier(n_neighbors=5)\n",
    "nb_model = GaussianNB()\n",
    "svm_model = SVC(probability=True, random_state=100)\n",
    "xgb_model = XGBClassifier(random_state=100, eval_metric='mlogloss')\n"
   ]
  },
  {
   "cell_type": "code",
   "execution_count": null,
   "id": "1147bcc1",
   "metadata": {},
   "outputs": [],
   "source": []
  },
  {
   "cell_type": "code",
   "execution_count": 8,
   "id": "b788568a",
   "metadata": {},
   "outputs": [],
   "source": [
    "# Voting Classifier\n",
    "voting_clf_fert = VotingClassifier(\n",
    "    estimators=[('rf', rf_model), ('knn', knn_model), ('nb', nb_model), ('svm', svm_model), ('xgb', xgb_model)],\n",
    "    voting='soft'\n",
    ")"
   ]
  },
  {
   "cell_type": "code",
   "execution_count": 9,
   "id": "476bea2b",
   "metadata": {},
   "outputs": [
    {
     "data": {
      "text/plain": [
       "['fertilizer_recommendation_model.pkl']"
      ]
     },
     "execution_count": 9,
     "metadata": {},
     "output_type": "execute_result"
    }
   ],
   "source": [
    "# Train\n",
    "voting_clf_fert.fit(X_train_scaled, y_train)\n",
    "joblib.dump(voting_clf_fert, 'fertilizer_recommendation_model.pkl')"
   ]
  },
  {
   "cell_type": "code",
   "execution_count": 10,
   "id": "430e3418",
   "metadata": {},
   "outputs": [],
   "source": [
    "# Predict and decode\n",
    "y_pred_fert = voting_clf_fert.predict(X_test_scaled)\n",
    "y_pred_fert_decoded = label_encoder.inverse_transform(y_pred_fert)\n",
    "y_test_decoded = label_encoder.inverse_transform(y_test)\n"
   ]
  },
  {
   "cell_type": "code",
   "execution_count": 11,
   "id": "763fed1b",
   "metadata": {},
   "outputs": [
    {
     "name": "stdout",
     "output_type": "stream",
     "text": [
      "Voting Classifier Accuracy: 1.0\n",
      "\n",
      "Classification Report:\n",
      "              precision    recall  f1-score   support\n",
      "\n",
      "    10-26-26       1.00      1.00      1.00         2\n",
      "    14-35-14       1.00      1.00      1.00         1\n",
      "       20-20       1.00      1.00      1.00         1\n",
      "       28-28       1.00      1.00      1.00         5\n",
      "         dap       1.00      1.00      1.00         5\n",
      "        urea       1.00      1.00      1.00         6\n",
      "\n",
      "    accuracy                           1.00        20\n",
      "   macro avg       1.00      1.00      1.00        20\n",
      "weighted avg       1.00      1.00      1.00        20\n",
      "\n"
     ]
    }
   ],
   "source": [
    "# Evaluate\n",
    "accuracy = accuracy_score(y_test_decoded, y_pred_fert_decoded)\n",
    "print(\"Voting Classifier Accuracy:\", accuracy)\n",
    "print(\"\\nClassification Report:\")\n",
    "print(classification_report(y_test_decoded, y_pred_fert_decoded))"
   ]
  },
  {
   "cell_type": "code",
   "execution_count": 12,
   "id": "3d6257c3",
   "metadata": {},
   "outputs": [],
   "source": [
    "# Fertilizer details\n",
    "fertilizer_details = {\n",
    "    'urea': {'full_name': 'Urea (Carbamide)', 'npk': '46-0-0', 'explanation': 'High-nitrogen fertilizer (46% Nitrogen). Used for crops needing nitrogen boost, like Paddy, Wheat, and Cotton. Promotes leaf and stem growth.'},\n",
    "    'dap': {'full_name': 'Diammonium Phosphate', 'npk': '18-46-0', 'explanation': 'Rich in Phosphorus (46%) and Nitrogen (18%). Ideal for root development and early growth. Suits crops like Sugarcane, Ground Nuts, and Pulses.'},\n",
    "    '14-35-14': {'full_name': 'NPK 14-35-14', 'npk': '14-35-14', 'explanation': 'Balanced fertilizer with Nitrogen (14%), Phosphorus (35%), and Potassium (14%). Supports flowering and fruiting. Great for Cotton, Sugarcane, and Oil seeds.'},\n",
    "    '28-28': {'full_name': 'NPK 28-28-0', 'npk': '28-28-0', 'explanation': 'Equal Nitrogen and Phosphorus (28% each), no Potassium. Boosts vegetative growth and root strength. Common for Paddy, Maize, and Ground Nuts.'},\n",
    "    '17-17-17': {'full_name': 'NPK 17-17-17', 'npk': '17-17-17', 'explanation': 'Fully balanced fertilizer (17% each of N, P, K). Versatile for all growth stages. Used for Sugarcane, Cotton, and Barley.'},\n",
    "    '20-20': {'full_name': 'NPK 20-20-0', 'npk': '20-20-0', 'explanation': 'Balanced Nitrogen and Phosphorus (20% each). Supports early growth and root development. Ideal for Millets, Pulses, and Oil seeds.'},\n",
    "    '10-26-26': {'full_name': 'NPK 10-26-26', 'npk': '10-26-26', 'explanation': 'Balanced fertilizer with low Nitrogen (10%), high Phosphorus (26%), and Potassium (26%). Supports flowering and fruiting. Common for Pulses and Barley.'}\n",
    "}"
   ]
  },
  {
   "cell_type": "code",
   "execution_count": 13,
   "id": "92b566cd",
   "metadata": {},
   "outputs": [],
   "source": [
    "# Recommend fertilizer function\n",
    "def recommend_fertilizer(Temparature, Humidity, Moisture, Soil_Type, Crop_Type, Nitrogen, Potassium, Phosphorous):\n",
    "    try:\n",
    "        # Load scaler, encoders, and model\n",
    "        sc = joblib.load('fertilizer_scaler.pkl')\n",
    "        soil_encoder = joblib.load('soil_encoder.pkl')\n",
    "        crop_encoder = joblib.load('crop_encoder.pkl')\n",
    "        model_fert = joblib.load('fertilizer_recommendation_model.pkl')\n",
    "\n",
    "        # Validate numerical inputs\n",
    "        if not (0 <= Temparature <= 42):\n",
    "            return {'name': 'Error', 'full_name': 'Error', 'npk': 'N/A', 'explanation': 'Temperature must be between 0 and 42.'}\n",
    "        if not (25 <= Humidity <= 38):\n",
    "            return {'name': 'Error', 'full_name': 'Error', 'npk': 'N/A', 'explanation': 'Humidity must be between 25 and 38.'}\n",
    "        if not (50 <= Moisture <= 72):\n",
    "            return {'name': 'Error', 'full_name': 'Error', 'npk': 'N/A', 'explanation': 'Moisture must be between 50 and 72.'}\n",
    "        if not (4 <= Nitrogen <= 65):\n",
    "            return {'name': 'Error', 'full_name': 'Error', 'npk': 'N/A', 'explanation': 'Nitrogen must be between 4 and 65.'}\n",
    "        if not (0 <= Potassium <= 42):\n",
    "            return {'name': 'Error', 'full_name': 'Error', 'npk': 'N/A', 'explanation': 'Potassium must be between 0 and 42.'}\n",
    "        if not (0 <= Phosphorous <= 19):\n",
    "            return {'name': 'Error', 'full_name': 'Error', 'npk': 'N/A', 'explanation': 'Phosphorous must be between 0 and 19.'}\n",
    "\n",
    "        # Encode categorical inputs\n",
    "        if Soil_Type not in soil_encoder.classes_:\n",
    "            return {'name': 'Error', 'full_name': 'Error', 'npk': 'N/A', 'explanation': f'Invalid Soil Type. Choose from {list(soil_encoder.classes_)}.'}\n",
    "        if Crop_Type not in crop_encoder.classes_:\n",
    "            return {'name': 'Error', 'full_name': 'Error', 'npk': 'N/A', 'explanation': f'Invalid Crop Type. Choose from {list(crop_encoder.classes_)}.'}\n",
    "        \n",
    "        soil_encoded = soil_encoder.transform([Soil_Type])[0]\n",
    "        crop_encoded = crop_encoder.transform([Crop_Type])[0]\n",
    "\n",
    "        # Prepare input array (8 features)\n",
    "        features = np.array([[Temparature, Humidity, Moisture, soil_encoded, crop_encoded, Nitrogen, Potassium, Phosphorous]])\n",
    "        columns = ['Temparature', 'Humidity ', 'Moisture', 'Soil Type', 'Crop Type', 'Nitrogen', 'Potassium', 'Phosphorous']\n",
    "        input_df = pd.DataFrame(features, columns=columns)\n",
    "\n",
    "        # Scale features\n",
    "        transformed_features = sc.transform(input_df)\n",
    "\n",
    "        # Predict\n",
    "        prediction = model_fert.predict(transformed_features)[0]\n",
    "        fertilizer = label_encoder.inverse_transform([prediction])[0]\n",
    "\n",
    "        # Get details\n",
    "        details = fertilizer_details.get(fertilizer, {\n",
    "            'full_name': fertilizer,\n",
    "            'npk': 'Unknown',\n",
    "            'explanation': 'No details available.'\n",
    "        })\n",
    "\n",
    "        return {\n",
    "            'name': fertilizer,\n",
    "            'full_name': details['full_name'],\n",
    "            'npk': details['npk'],\n",
    "            'explanation': details['explanation']\n",
    "        }\n",
    "    except Exception as e:\n",
    "        return {\n",
    "            'name': 'Error',\n",
    "            'full_name': 'Error',\n",
    "            'npk': 'N/A',\n",
    "            'explanation': f'Error in prediction: {str(e)}'\n",
    "        }\n",
    "\n"
   ]
  },
  {
   "cell_type": "code",
   "execution_count": 14,
   "id": "97a8c448",
   "metadata": {},
   "outputs": [
    {
     "name": "stdout",
     "output_type": "stream",
     "text": [
      "\n",
      "Recommendation Result:\n",
      "{'name': '10-26-26', 'full_name': 'NPK 10-26-26', 'npk': '10-26-26', 'explanation': 'Balanced fertilizer with low Nitrogen (10%), high Phosphorus (26%), and Potassium (26%). Supports flowering and fruiting. Common for Pulses and Barley.'}\n"
     ]
    }
   ],
   "source": [
    "# Test function\n",
    "result = recommend_fertilizer(26, 30, 60, 'Sandy', 'Maize', 37, 20, 19)\n",
    "print(\"\\nRecommendation Result:\")\n",
    "print(result)"
   ]
  },
  {
   "cell_type": "code",
   "execution_count": 15,
   "id": "878caab8",
   "metadata": {},
   "outputs": [
    {
     "name": "stdout",
     "output_type": "stream",
     "text": [
      "['1filtered_crop_recommendation.csv', 'app.py', 'app2.py', 'crop.ipynb', 'crop_encoder.pkl', 'crop_recommendation_model.pkl', 'crop_scaler.pkl', 'data set', 'fertilizer.ipynb', 'fertilizer2.ipynb', 'fertilizer_recommendation_model.pkl', 'fertilizer_scaler.pkl', 'filtered_crop_recommendation.csv', 'label_encoder_fert.pkl', 'scaler.pkl', 'scaler_crop.pkl', 'signup.py', 'soil_encoder.pkl', 'tempCodeRunnerFile.py']\n"
     ]
    }
   ],
   "source": [
    "import os\n",
    "print(os.listdir('.'))"
   ]
  }
 ],
 "metadata": {
  "kernelspec": {
   "display_name": "Python 3",
   "language": "python",
   "name": "python3"
  },
  "language_info": {
   "codemirror_mode": {
    "name": "ipython",
    "version": 3
   },
   "file_extension": ".py",
   "mimetype": "text/x-python",
   "name": "python",
   "nbconvert_exporter": "python",
   "pygments_lexer": "ipython3",
   "version": "3.12.4"
  }
 },
 "nbformat": 4,
 "nbformat_minor": 5
}
